{
 "cells": [
  {
   "cell_type": "code",
   "execution_count": 32,
   "metadata": {},
   "outputs": [],
   "source": [
    "import pandas as pd\n",
    "import numpy as np\n",
    "import seaborn as sns\n",
    "import matplotlib.pyplot as plt\n",
    "\n",
    "from sklearn.linear_model import LinearRegression\n",
    "from sklearn.model_selection import train_test_split, cross_val_score\n",
    "from sklearn.metrics import r2_score\n",
    "from sklearn.preprocessing import StandardScaler\n",
    "from sklearn.linear_model import Lasso, LassoCV"
   ]
  },
  {
   "cell_type": "code",
   "execution_count": 33,
   "metadata": {},
   "outputs": [],
   "source": [
    "df = pd.read_csv('../data/high_diamond_ranked_10min.csv')"
   ]
  },
  {
   "cell_type": "code",
   "execution_count": 34,
   "metadata": {},
   "outputs": [
    {
     "data": {
      "text/plain": [
       "Index(['gameId', 'blueWins', 'blueWardsPlaced', 'blueWardsDestroyed',\n",
       "       'blueFirstBlood', 'blueKills', 'blueDeaths', 'blueAssists',\n",
       "       'blueEliteMonsters', 'blueDragons', 'blueHeralds',\n",
       "       'blueTowersDestroyed', 'blueTotalGold', 'blueAvgLevel',\n",
       "       'blueTotalExperience', 'blueTotalMinionsKilled',\n",
       "       'blueTotalJungleMinionsKilled', 'blueGoldDiff', 'blueExperienceDiff',\n",
       "       'blueCSPerMin', 'blueGoldPerMin', 'redWardsPlaced', 'redWardsDestroyed',\n",
       "       'redFirstBlood', 'redKills', 'redDeaths', 'redAssists',\n",
       "       'redEliteMonsters', 'redDragons', 'redHeralds', 'redTowersDestroyed',\n",
       "       'redTotalGold', 'redAvgLevel', 'redTotalExperience',\n",
       "       'redTotalMinionsKilled', 'redTotalJungleMinionsKilled', 'redGoldDiff',\n",
       "       'redExperienceDiff', 'redCSPerMin', 'redGoldPerMin'],\n",
       "      dtype='object')"
      ]
     },
     "execution_count": 34,
     "metadata": {},
     "output_type": "execute_result"
    }
   ],
   "source": [
    "# Columns in our DataFrame\n",
    "df.columns"
   ]
  },
  {
   "cell_type": "code",
   "execution_count": 35,
   "metadata": {},
   "outputs": [
    {
     "data": {
      "text/plain": [
       "0.4990383642069035"
      ]
     },
     "execution_count": 35,
     "metadata": {},
     "output_type": "execute_result"
    }
   ],
   "source": [
    "# This is the mean wins, it's our baseline. As expected blue wins 50% of the time\n",
    "df['blueWins'].mean()"
   ]
  },
  {
   "cell_type": "code",
   "execution_count": 36,
   "metadata": {},
   "outputs": [
    {
     "data": {
      "text/plain": [
       "gameId                            int64\n",
       "blueWins                          int64\n",
       "blueWardsPlaced                   int64\n",
       "blueWardsDestroyed                int64\n",
       "blueFirstBlood                    int64\n",
       "blueKills                         int64\n",
       "blueDeaths                        int64\n",
       "blueAssists                       int64\n",
       "blueEliteMonsters                 int64\n",
       "blueDragons                       int64\n",
       "blueHeralds                       int64\n",
       "blueTowersDestroyed               int64\n",
       "blueTotalGold                     int64\n",
       "blueAvgLevel                    float64\n",
       "blueTotalExperience               int64\n",
       "blueTotalMinionsKilled            int64\n",
       "blueTotalJungleMinionsKilled      int64\n",
       "blueGoldDiff                      int64\n",
       "blueExperienceDiff                int64\n",
       "blueCSPerMin                    float64\n",
       "blueGoldPerMin                  float64\n",
       "redWardsPlaced                    int64\n",
       "redWardsDestroyed                 int64\n",
       "redFirstBlood                     int64\n",
       "redKills                          int64\n",
       "redDeaths                         int64\n",
       "redAssists                        int64\n",
       "redEliteMonsters                  int64\n",
       "redDragons                        int64\n",
       "redHeralds                        int64\n",
       "redTowersDestroyed                int64\n",
       "redTotalGold                      int64\n",
       "redAvgLevel                     float64\n",
       "redTotalExperience                int64\n",
       "redTotalMinionsKilled             int64\n",
       "redTotalJungleMinionsKilled       int64\n",
       "redGoldDiff                       int64\n",
       "redExperienceDiff                 int64\n",
       "redCSPerMin                     float64\n",
       "redGoldPerMin                   float64\n",
       "dtype: object"
      ]
     },
     "execution_count": 36,
     "metadata": {},
     "output_type": "execute_result"
    }
   ],
   "source": [
    "# All our datatypes are as expected and ready to use\n",
    "df.dtypes"
   ]
  },
  {
   "cell_type": "code",
   "execution_count": 37,
   "metadata": {},
   "outputs": [
    {
     "data": {
      "text/plain": [
       "gameId                          0.0\n",
       "blueWins                        0.0\n",
       "blueWardsPlaced                 0.0\n",
       "blueWardsDestroyed              0.0\n",
       "blueFirstBlood                  0.0\n",
       "blueKills                       0.0\n",
       "blueDeaths                      0.0\n",
       "blueAssists                     0.0\n",
       "blueEliteMonsters               0.0\n",
       "blueDragons                     0.0\n",
       "blueHeralds                     0.0\n",
       "blueTowersDestroyed             0.0\n",
       "blueTotalGold                   0.0\n",
       "blueAvgLevel                    0.0\n",
       "blueTotalExperience             0.0\n",
       "blueTotalMinionsKilled          0.0\n",
       "blueTotalJungleMinionsKilled    0.0\n",
       "blueGoldDiff                    0.0\n",
       "blueExperienceDiff              0.0\n",
       "blueCSPerMin                    0.0\n",
       "blueGoldPerMin                  0.0\n",
       "redWardsPlaced                  0.0\n",
       "redWardsDestroyed               0.0\n",
       "redFirstBlood                   0.0\n",
       "redKills                        0.0\n",
       "redDeaths                       0.0\n",
       "redAssists                      0.0\n",
       "redEliteMonsters                0.0\n",
       "redDragons                      0.0\n",
       "redHeralds                      0.0\n",
       "redTowersDestroyed              0.0\n",
       "redTotalGold                    0.0\n",
       "redAvgLevel                     0.0\n",
       "redTotalExperience              0.0\n",
       "redTotalMinionsKilled           0.0\n",
       "redTotalJungleMinionsKilled     0.0\n",
       "redGoldDiff                     0.0\n",
       "redExperienceDiff               0.0\n",
       "redCSPerMin                     0.0\n",
       "redGoldPerMin                   0.0\n",
       "dtype: float64"
      ]
     },
     "execution_count": 37,
     "metadata": {},
     "output_type": "execute_result"
    }
   ],
   "source": [
    "# No values are missing\n",
    "df.isnull().mean()"
   ]
  },
  {
   "cell_type": "code",
   "execution_count": 38,
   "metadata": {},
   "outputs": [
    {
     "ename": "NameError",
     "evalue": "name 'lt' is not defined",
     "output_type": "error",
     "traceback": [
      "\u001b[0;31m---------------------------------------------------------------------------\u001b[0m",
      "\u001b[0;31mNameError\u001b[0m                                 Traceback (most recent call last)",
      "\u001b[0;32m<ipython-input-38-8900669742b2>\u001b[0m in \u001b[0;36m<module>\u001b[0;34m\u001b[0m\n\u001b[1;32m      1\u001b[0m \u001b[0;31m# Let's look at the correlations our features have with our target\u001b[0m\u001b[0;34m\u001b[0m\u001b[0;34m\u001b[0m\u001b[0;34m\u001b[0m\u001b[0m\n\u001b[0;32m----> 2\u001b[0;31m \u001b[0mlt\u001b[0m\u001b[0;34m.\u001b[0m\u001b[0mfigure\u001b[0m\u001b[0;34m(\u001b[0m\u001b[0mfigsize\u001b[0m\u001b[0;34m=\u001b[0m\u001b[0;34m(\u001b[0m\u001b[0;36m4\u001b[0m\u001b[0;34m,\u001b[0m\u001b[0;36m8\u001b[0m\u001b[0;34m)\u001b[0m\u001b[0;34m)\u001b[0m\u001b[0;34m\u001b[0m\u001b[0;34m\u001b[0m\u001b[0m\n\u001b[0m\u001b[1;32m      3\u001b[0m sns.heatmap(df.corr()[['blueWins']].\n\u001b[1;32m      4\u001b[0m             sort_values(by='blueWins', ascending=False),cmap='coolwarm', annot=True, vmin=-1);\n",
      "\u001b[0;31mNameError\u001b[0m: name 'lt' is not defined"
     ]
    }
   ],
   "source": [
    "# Let's look at the correlations our features have with our target\n",
    "lt.figure(figsize=(4,8))\n",
    "sns.heatmap(df.corr()[['blueWins']].\n",
    "            sort_values(by='blueWins', ascending=False),cmap='coolwarm', annot=True, vmin=-1);"
   ]
  },
  {
   "cell_type": "code",
   "execution_count": null,
   "metadata": {},
   "outputs": [],
   "source": [
    "# Some of these are right skewed. I could log them but I'm not going to unless my r2 scores are low\n",
    "df.hist(figsize=(15, 15));"
   ]
  },
  {
   "cell_type": "code",
   "execution_count": null,
   "metadata": {},
   "outputs": [],
   "source": [
    "# print our corrilation values\n",
    "df_plot = df.corr()[['blueWins']].sort_values(by='blueWins', ascending=False)\n",
    "df_plot['feature'] = df_plot.index\n",
    "df_plot.drop(axis = 0, index = 'blueWins', inplace = True)\n",
    "df_plot.drop(labels = 'gameId', inplace = True)\n",
    "df_plot.head(50)"
   ]
  },
  {
   "cell_type": "code",
   "execution_count": null,
   "metadata": {},
   "outputs": [],
   "source": [
    "# Plot our correlation values\n",
    "plt.figure(figsize=(20,20))\n",
    "sns.barplot(y = 'feature', x = 'blueWins', data = df_plot, orient = 'h');"
   ]
  },
  {
   "cell_type": "code",
   "execution_count": null,
   "metadata": {},
   "outputs": [],
   "source": [
    "# We'll drop all features that have less than a 0.2 correlation with our target\n",
    "df_plot.drop((df_plot[abs(df_plot['blueWins']) < .2]).index, axis=0, inplace = True)"
   ]
  },
  {
   "cell_type": "code",
   "execution_count": null,
   "metadata": {},
   "outputs": [],
   "source": [
    "# New plot of our correlations with features removed\n",
    "plt.figure(figsize=(20,20))\n",
    "sns.barplot(y = 'feature', x = 'blueWins', data = df_plot, orient = 'h');"
   ]
  },
  {
   "cell_type": "code",
   "execution_count": null,
   "metadata": {},
   "outputs": [],
   "source": [
    "# Define our features\n",
    "features = df_plot.index"
   ]
  },
  {
   "cell_type": "code",
   "execution_count": null,
   "metadata": {},
   "outputs": [],
   "source": [
    "# Create a new dataframe and populate it with our features\n",
    "df_out = pd.DataFrame()\n",
    "df_out = df[features]"
   ]
  },
  {
   "cell_type": "code",
   "execution_count": null,
   "metadata": {},
   "outputs": [],
   "source": [
    "# Add our target feature to the dataframe\n",
    "df_out['blueWins'] = df['blueWins']\n",
    "df_out.columns"
   ]
  },
  {
   "cell_type": "code",
   "execution_count": 16,
   "metadata": {},
   "outputs": [],
   "source": [
    "# create csv with our cleaned data\n",
    "df_out.to_csv('../data/cleaned_data.csv')"
   ]
  },
  {
   "cell_type": "code",
   "execution_count": null,
   "metadata": {},
   "outputs": [],
   "source": []
  }
 ],
 "metadata": {
  "kernelspec": {
   "display_name": "Python 3",
   "language": "python",
   "name": "python3"
  },
  "language_info": {
   "codemirror_mode": {
    "name": "ipython",
    "version": 3
   },
   "file_extension": ".py",
   "mimetype": "text/x-python",
   "name": "python",
   "nbconvert_exporter": "python",
   "pygments_lexer": "ipython3",
   "version": "3.7.7"
  }
 },
 "nbformat": 4,
 "nbformat_minor": 4
}
